{
 "cells": [
  {
   "cell_type": "code",
   "execution_count": 2,
   "id": "850e2562",
   "metadata": {},
   "outputs": [],
   "source": [
    "import pandas as pd\n",
    "data={\n",
    "    'Name': ['Alice', 'Bob', 'Charlie', 'David', 'Eva'],\n",
    "    'Age': [28, 34, 25, 45, 30],\n",
    "    'Department': ['HR', 'Engineering', 'Marketing', 'Finance', 'IT'],\n",
    "    'Salary': [48000, 62000, 52000, 75000, 50000]\n",
    "}"
   ]
  },
  {
   "cell_type": "code",
   "execution_count": 5,
   "id": "acc773a9",
   "metadata": {},
   "outputs": [],
   "source": [
    "df=pd.DataFrame(data)"
   ]
  },
  {
   "cell_type": "code",
   "execution_count": 10,
   "id": "2a32db5a",
   "metadata": {},
   "outputs": [
    {
     "data": {
      "text/html": [
       "<div>\n",
       "<style scoped>\n",
       "    .dataframe tbody tr th:only-of-type {\n",
       "        vertical-align: middle;\n",
       "    }\n",
       "\n",
       "    .dataframe tbody tr th {\n",
       "        vertical-align: top;\n",
       "    }\n",
       "\n",
       "    .dataframe thead th {\n",
       "        text-align: right;\n",
       "    }\n",
       "</style>\n",
       "<table border=\"1\" class=\"dataframe\">\n",
       "  <thead>\n",
       "    <tr style=\"text-align: right;\">\n",
       "      <th></th>\n",
       "      <th>Name</th>\n",
       "      <th>Age</th>\n",
       "      <th>Department</th>\n",
       "      <th>Salary</th>\n",
       "    </tr>\n",
       "  </thead>\n",
       "  <tbody>\n",
       "    <tr>\n",
       "      <th>0</th>\n",
       "      <td>Alice</td>\n",
       "      <td>28</td>\n",
       "      <td>HR</td>\n",
       "      <td>48000</td>\n",
       "    </tr>\n",
       "    <tr>\n",
       "      <th>1</th>\n",
       "      <td>Bob</td>\n",
       "      <td>34</td>\n",
       "      <td>Engineering</td>\n",
       "      <td>62000</td>\n",
       "    </tr>\n",
       "    <tr>\n",
       "      <th>2</th>\n",
       "      <td>Charlie</td>\n",
       "      <td>25</td>\n",
       "      <td>Marketing</td>\n",
       "      <td>52000</td>\n",
       "    </tr>\n",
       "    <tr>\n",
       "      <th>3</th>\n",
       "      <td>David</td>\n",
       "      <td>45</td>\n",
       "      <td>Finance</td>\n",
       "      <td>75000</td>\n",
       "    </tr>\n",
       "    <tr>\n",
       "      <th>4</th>\n",
       "      <td>Eva</td>\n",
       "      <td>30</td>\n",
       "      <td>IT</td>\n",
       "      <td>50000</td>\n",
       "    </tr>\n",
       "  </tbody>\n",
       "</table>\n",
       "</div>"
      ],
      "text/plain": [
       "      Name  Age   Department  Salary\n",
       "0    Alice   28           HR   48000\n",
       "1      Bob   34  Engineering   62000\n",
       "2  Charlie   25    Marketing   52000\n",
       "3    David   45      Finance   75000\n",
       "4      Eva   30           IT   50000"
      ]
     },
     "execution_count": 10,
     "metadata": {},
     "output_type": "execute_result"
    }
   ],
   "source": [
    "df.head(10)"
   ]
  },
  {
   "cell_type": "code",
   "execution_count": 11,
   "id": "fec439a1",
   "metadata": {},
   "outputs": [
    {
     "name": "stdout",
     "output_type": "stream",
     "text": [
      "<class 'pandas.core.frame.DataFrame'>\n",
      "RangeIndex: 5 entries, 0 to 4\n",
      "Data columns (total 4 columns):\n",
      " #   Column      Non-Null Count  Dtype \n",
      "---  ------      --------------  ----- \n",
      " 0   Name        5 non-null      object\n",
      " 1   Age         5 non-null      int64 \n",
      " 2   Department  5 non-null      object\n",
      " 3   Salary      5 non-null      int64 \n",
      "dtypes: int64(2), object(2)\n",
      "memory usage: 292.0+ bytes\n"
     ]
    }
   ],
   "source": [
    "df.info()\n"
   ]
  },
  {
   "cell_type": "code",
   "execution_count": 13,
   "id": "f1c1b061",
   "metadata": {},
   "outputs": [
    {
     "name": "stdout",
     "output_type": "stream",
     "text": [
      "Requirement already satisfied: datasets in e:\\anaconda\\envs\\python_project\\lib\\site-packages (3.3.2)\n",
      "Requirement already satisfied: filelock in e:\\anaconda\\envs\\python_project\\lib\\site-packages (from datasets) (3.17.0)\n",
      "Requirement already satisfied: numpy>=1.17 in e:\\anaconda\\envs\\python_project\\lib\\site-packages (from datasets) (2.3.1)\n",
      "Requirement already satisfied: pyarrow>=15.0.0 in e:\\anaconda\\envs\\python_project\\lib\\site-packages (from datasets) (19.0.0)\n",
      "Requirement already satisfied: dill<0.3.9,>=0.3.0 in e:\\anaconda\\envs\\python_project\\lib\\site-packages (from datasets) (0.3.8)\n",
      "Requirement already satisfied: pandas in e:\\anaconda\\envs\\python_project\\lib\\site-packages (from datasets) (2.3.1)\n",
      "Requirement already satisfied: requests>=2.32.2 in e:\\anaconda\\envs\\python_project\\lib\\site-packages (from datasets) (2.32.4)\n",
      "Requirement already satisfied: tqdm>=4.66.3 in e:\\anaconda\\envs\\python_project\\lib\\site-packages (from datasets) (4.67.1)\n",
      "Requirement already satisfied: xxhash in e:\\anaconda\\envs\\python_project\\lib\\site-packages (from datasets) (3.5.0)\n",
      "Requirement already satisfied: multiprocess<0.70.17 in e:\\anaconda\\envs\\python_project\\lib\\site-packages (from datasets) (0.70.15)\n",
      "Requirement already satisfied: fsspec<=2024.12.0,>=2023.1.0 in e:\\anaconda\\envs\\python_project\\lib\\site-packages (from fsspec[http]<=2024.12.0,>=2023.1.0->datasets) (2024.12.0)\n",
      "Requirement already satisfied: aiohttp in e:\\anaconda\\envs\\python_project\\lib\\site-packages (from datasets) (3.11.10)\n",
      "Requirement already satisfied: huggingface-hub>=0.24.0 in e:\\anaconda\\envs\\python_project\\lib\\site-packages (from datasets) (0.31.2)\n",
      "Requirement already satisfied: packaging in e:\\anaconda\\envs\\python_project\\lib\\site-packages (from datasets) (25.0)\n",
      "Requirement already satisfied: pyyaml>=5.1 in e:\\anaconda\\envs\\python_project\\lib\\site-packages (from datasets) (6.0.2)\n",
      "Requirement already satisfied: aiohappyeyeballs>=2.3.0 in e:\\anaconda\\envs\\python_project\\lib\\site-packages (from aiohttp->datasets) (2.4.4)\n",
      "Requirement already satisfied: aiosignal>=1.1.2 in e:\\anaconda\\envs\\python_project\\lib\\site-packages (from aiohttp->datasets) (1.2.0)\n",
      "Requirement already satisfied: attrs>=17.3.0 in e:\\anaconda\\envs\\python_project\\lib\\site-packages (from aiohttp->datasets) (24.3.0)\n",
      "Requirement already satisfied: frozenlist>=1.1.1 in e:\\anaconda\\envs\\python_project\\lib\\site-packages (from aiohttp->datasets) (1.5.0)\n",
      "Requirement already satisfied: multidict<7.0,>=4.5 in e:\\anaconda\\envs\\python_project\\lib\\site-packages (from aiohttp->datasets) (6.1.0)\n",
      "Requirement already satisfied: propcache>=0.2.0 in e:\\anaconda\\envs\\python_project\\lib\\site-packages (from aiohttp->datasets) (0.3.1)\n",
      "Requirement already satisfied: yarl<2.0,>=1.17.0 in e:\\anaconda\\envs\\python_project\\lib\\site-packages (from aiohttp->datasets) (1.18.0)\n",
      "Requirement already satisfied: idna>=2.0 in e:\\anaconda\\envs\\python_project\\lib\\site-packages (from yarl<2.0,>=1.17.0->aiohttp->datasets) (3.7)\n",
      "Requirement already satisfied: typing-extensions>=3.7.4.3 in e:\\anaconda\\envs\\python_project\\lib\\site-packages (from huggingface-hub>=0.24.0->datasets) (4.12.2)\n",
      "Requirement already satisfied: charset_normalizer<4,>=2 in e:\\anaconda\\envs\\python_project\\lib\\site-packages (from requests>=2.32.2->datasets) (3.3.2)\n",
      "Requirement already satisfied: urllib3<3,>=1.21.1 in e:\\anaconda\\envs\\python_project\\lib\\site-packages (from requests>=2.32.2->datasets) (2.5.0)\n",
      "Requirement already satisfied: certifi>=2017.4.17 in e:\\anaconda\\envs\\python_project\\lib\\site-packages (from requests>=2.32.2->datasets) (2025.7.14)\n",
      "Requirement already satisfied: colorama in e:\\anaconda\\envs\\python_project\\lib\\site-packages (from tqdm>=4.66.3->datasets) (0.4.6)\n",
      "Requirement already satisfied: python-dateutil>=2.8.2 in e:\\anaconda\\envs\\python_project\\lib\\site-packages (from pandas->datasets) (2.9.0.post0)\n",
      "Requirement already satisfied: pytz>=2020.1 in e:\\anaconda\\envs\\python_project\\lib\\site-packages (from pandas->datasets) (2025.2)\n",
      "Requirement already satisfied: tzdata>=2022.7 in e:\\anaconda\\envs\\python_project\\lib\\site-packages (from pandas->datasets) (2025.2)\n",
      "Requirement already satisfied: six>=1.5 in e:\\anaconda\\envs\\python_project\\lib\\site-packages (from python-dateutil>=2.8.2->pandas->datasets) (1.17.0)\n",
      "Note: you may need to restart the kernel to use updated packages.\n"
     ]
    },
    {
     "data": {
      "application/vnd.jupyter.widget-view+json": {
       "model_id": "bf0657682a974e7e9a8762e2f7418309",
       "version_major": 2,
       "version_minor": 0
      },
      "text/plain": [
       "README.md:   0%|          | 0.00/339 [00:00<?, ?B/s]"
      ]
     },
     "metadata": {},
     "output_type": "display_data"
    },
    {
     "name": "stderr",
     "output_type": "stream",
     "text": [
      "e:\\Anaconda\\envs\\python_project\\Lib\\site-packages\\huggingface_hub\\file_download.py:143: UserWarning: `huggingface_hub` cache-system uses symlinks by default to efficiently store duplicated files but your machine does not support them in C:\\Users\\USER\\.cache\\huggingface\\hub\\datasets--fka--awesome-chatgpt-prompts. Caching files will still work but in a degraded version that might require more space on your disk. This warning can be disabled by setting the `HF_HUB_DISABLE_SYMLINKS_WARNING` environment variable. For more details, see https://huggingface.co/docs/huggingface_hub/how-to-cache#limitations.\n",
      "To support symlinks on Windows, you either need to activate Developer Mode or to run Python as an administrator. In order to activate developer mode, see this article: https://docs.microsoft.com/en-us/windows/apps/get-started/enable-your-device-for-development\n",
      "  warnings.warn(message)\n"
     ]
    },
    {
     "data": {
      "application/vnd.jupyter.widget-view+json": {
       "model_id": "7a1224a4d44e4322a754a9312f49e7eb",
       "version_major": 2,
       "version_minor": 0
      },
      "text/plain": [
       "prompts.csv: 0.00B [00:00, ?B/s]"
      ]
     },
     "metadata": {},
     "output_type": "display_data"
    },
    {
     "data": {
      "application/vnd.jupyter.widget-view+json": {
       "model_id": "37c5f03e1deb418aaa48b55e6e189e80",
       "version_major": 2,
       "version_minor": 0
      },
      "text/plain": [
       "Generating train split:   0%|          | 0/203 [00:00<?, ? examples/s]"
      ]
     },
     "metadata": {},
     "output_type": "display_data"
    }
   ],
   "source": [
    "# If you meant to use the 'datasets' library (Hugging Face), install and import as follows:\n",
    "%pip install datasets\n",
    "\n",
    "from datasets import load_dataset\n",
    "dataset =load_dataset('fka/awesome-chatgpt-prompts')\n",
    "\n"
   ]
  },
  {
   "cell_type": "code",
   "execution_count": 14,
   "id": "1ebc46a5",
   "metadata": {},
   "outputs": [
    {
     "data": {
      "text/html": [
       "<div>\n",
       "<style scoped>\n",
       "    .dataframe tbody tr th:only-of-type {\n",
       "        vertical-align: middle;\n",
       "    }\n",
       "\n",
       "    .dataframe tbody tr th {\n",
       "        vertical-align: top;\n",
       "    }\n",
       "\n",
       "    .dataframe thead th {\n",
       "        text-align: right;\n",
       "    }\n",
       "</style>\n",
       "<table border=\"1\" class=\"dataframe\">\n",
       "  <thead>\n",
       "    <tr style=\"text-align: right;\">\n",
       "      <th></th>\n",
       "      <th>Name</th>\n",
       "      <th>Age</th>\n",
       "      <th>Department</th>\n",
       "      <th>Salary</th>\n",
       "    </tr>\n",
       "  </thead>\n",
       "  <tbody>\n",
       "    <tr>\n",
       "      <th>0</th>\n",
       "      <td>Alice</td>\n",
       "      <td>28</td>\n",
       "      <td>HR</td>\n",
       "      <td>48000</td>\n",
       "    </tr>\n",
       "    <tr>\n",
       "      <th>1</th>\n",
       "      <td>Bob</td>\n",
       "      <td>34</td>\n",
       "      <td>Engineering</td>\n",
       "      <td>62000</td>\n",
       "    </tr>\n",
       "    <tr>\n",
       "      <th>2</th>\n",
       "      <td>Charlie</td>\n",
       "      <td>25</td>\n",
       "      <td>Marketing</td>\n",
       "      <td>52000</td>\n",
       "    </tr>\n",
       "    <tr>\n",
       "      <th>3</th>\n",
       "      <td>David</td>\n",
       "      <td>45</td>\n",
       "      <td>Finance</td>\n",
       "      <td>75000</td>\n",
       "    </tr>\n",
       "    <tr>\n",
       "      <th>4</th>\n",
       "      <td>Eva</td>\n",
       "      <td>30</td>\n",
       "      <td>IT</td>\n",
       "      <td>50000</td>\n",
       "    </tr>\n",
       "  </tbody>\n",
       "</table>\n",
       "</div>"
      ],
      "text/plain": [
       "      Name  Age   Department  Salary\n",
       "0    Alice   28           HR   48000\n",
       "1      Bob   34  Engineering   62000\n",
       "2  Charlie   25    Marketing   52000\n",
       "3    David   45      Finance   75000\n",
       "4      Eva   30           IT   50000"
      ]
     },
     "execution_count": 14,
     "metadata": {},
     "output_type": "execute_result"
    }
   ],
   "source": [
    "df"
   ]
  },
  {
   "cell_type": "code",
   "execution_count": 16,
   "id": "0cda8a8e",
   "metadata": {},
   "outputs": [
    {
     "data": {
      "text/html": [
       "<div>\n",
       "<style scoped>\n",
       "    .dataframe tbody tr th:only-of-type {\n",
       "        vertical-align: middle;\n",
       "    }\n",
       "\n",
       "    .dataframe tbody tr th {\n",
       "        vertical-align: top;\n",
       "    }\n",
       "\n",
       "    .dataframe thead th {\n",
       "        text-align: right;\n",
       "    }\n",
       "</style>\n",
       "<table border=\"1\" class=\"dataframe\">\n",
       "  <thead>\n",
       "    <tr style=\"text-align: right;\">\n",
       "      <th></th>\n",
       "      <th>act</th>\n",
       "      <th>prompt</th>\n",
       "    </tr>\n",
       "  </thead>\n",
       "  <tbody>\n",
       "    <tr>\n",
       "      <th>0</th>\n",
       "      <td>An Ethereum Developer</td>\n",
       "      <td>Imagine you are an experienced Ethereum develo...</td>\n",
       "    </tr>\n",
       "    <tr>\n",
       "      <th>1</th>\n",
       "      <td>SEO Prompt</td>\n",
       "      <td>Using WebPilot, create an outline for an artic...</td>\n",
       "    </tr>\n",
       "    <tr>\n",
       "      <th>2</th>\n",
       "      <td>Linux Terminal</td>\n",
       "      <td>I want you to act as a linux terminal. I will ...</td>\n",
       "    </tr>\n",
       "    <tr>\n",
       "      <th>3</th>\n",
       "      <td>English Translator and Improver</td>\n",
       "      <td>I want you to act as an English translator, sp...</td>\n",
       "    </tr>\n",
       "    <tr>\n",
       "      <th>4</th>\n",
       "      <td>`position` Interviewer</td>\n",
       "      <td>I want you to act as an interviewer. I will be...</td>\n",
       "    </tr>\n",
       "    <tr>\n",
       "      <th>...</th>\n",
       "      <td>...</td>\n",
       "      <td>...</td>\n",
       "    </tr>\n",
       "    <tr>\n",
       "      <th>198</th>\n",
       "      <td>study planner</td>\n",
       "      <td>I want you to act as an advanced study plan ge...</td>\n",
       "    </tr>\n",
       "    <tr>\n",
       "      <th>199</th>\n",
       "      <td>SEO specialist</td>\n",
       "      <td>Contributed by [@suhailroushan13](https://gith...</td>\n",
       "    </tr>\n",
       "    <tr>\n",
       "      <th>200</th>\n",
       "      <td>Note-Taking Assistant</td>\n",
       "      <td>I want you to act as a note-taking assistant f...</td>\n",
       "    </tr>\n",
       "    <tr>\n",
       "      <th>201</th>\n",
       "      <td>Nutritionist</td>\n",
       "      <td>Act as a nutritionist and create a healthy rec...</td>\n",
       "    </tr>\n",
       "    <tr>\n",
       "      <th>202</th>\n",
       "      <td>Yes or No answer</td>\n",
       "      <td>I want you to reply to questions. You reply on...</td>\n",
       "    </tr>\n",
       "  </tbody>\n",
       "</table>\n",
       "<p>203 rows × 2 columns</p>\n",
       "</div>"
      ],
      "text/plain": [
       "                                 act  \\\n",
       "0              An Ethereum Developer   \n",
       "1                         SEO Prompt   \n",
       "2                     Linux Terminal   \n",
       "3    English Translator and Improver   \n",
       "4             `position` Interviewer   \n",
       "..                               ...   \n",
       "198                    study planner   \n",
       "199                   SEO specialist   \n",
       "200            Note-Taking Assistant   \n",
       "201                     Nutritionist   \n",
       "202                 Yes or No answer   \n",
       "\n",
       "                                                prompt  \n",
       "0    Imagine you are an experienced Ethereum develo...  \n",
       "1    Using WebPilot, create an outline for an artic...  \n",
       "2    I want you to act as a linux terminal. I will ...  \n",
       "3    I want you to act as an English translator, sp...  \n",
       "4    I want you to act as an interviewer. I will be...  \n",
       "..                                                 ...  \n",
       "198  I want you to act as an advanced study plan ge...  \n",
       "199  Contributed by [@suhailroushan13](https://gith...  \n",
       "200  I want you to act as a note-taking assistant f...  \n",
       "201  Act as a nutritionist and create a healthy rec...  \n",
       "202  I want you to reply to questions. You reply on...  \n",
       "\n",
       "[203 rows x 2 columns]"
      ]
     },
     "execution_count": 16,
     "metadata": {},
     "output_type": "execute_result"
    }
   ],
   "source": [
    "df=dataset['train'].to_pandas()\n",
    "df"
   ]
  },
  {
   "cell_type": "code",
   "execution_count": 17,
   "id": "51441248",
   "metadata": {},
   "outputs": [
    {
     "data": {
      "text/html": [
       "<div>\n",
       "<style scoped>\n",
       "    .dataframe tbody tr th:only-of-type {\n",
       "        vertical-align: middle;\n",
       "    }\n",
       "\n",
       "    .dataframe tbody tr th {\n",
       "        vertical-align: top;\n",
       "    }\n",
       "\n",
       "    .dataframe thead th {\n",
       "        text-align: right;\n",
       "    }\n",
       "</style>\n",
       "<table border=\"1\" class=\"dataframe\">\n",
       "  <thead>\n",
       "    <tr style=\"text-align: right;\">\n",
       "      <th></th>\n",
       "      <th>act</th>\n",
       "      <th>prompt</th>\n",
       "    </tr>\n",
       "  </thead>\n",
       "  <tbody>\n",
       "    <tr>\n",
       "      <th>0</th>\n",
       "      <td>An Ethereum Developer</td>\n",
       "      <td>Imagine you are an experienced Ethereum develo...</td>\n",
       "    </tr>\n",
       "    <tr>\n",
       "      <th>1</th>\n",
       "      <td>SEO Prompt</td>\n",
       "      <td>Using WebPilot, create an outline for an artic...</td>\n",
       "    </tr>\n",
       "    <tr>\n",
       "      <th>2</th>\n",
       "      <td>Linux Terminal</td>\n",
       "      <td>I want you to act as a linux terminal. I will ...</td>\n",
       "    </tr>\n",
       "    <tr>\n",
       "      <th>3</th>\n",
       "      <td>English Translator and Improver</td>\n",
       "      <td>I want you to act as an English translator, sp...</td>\n",
       "    </tr>\n",
       "    <tr>\n",
       "      <th>4</th>\n",
       "      <td>`position` Interviewer</td>\n",
       "      <td>I want you to act as an interviewer. I will be...</td>\n",
       "    </tr>\n",
       "    <tr>\n",
       "      <th>5</th>\n",
       "      <td>JavaScript Console</td>\n",
       "      <td>I want you to act as a javascript console. I w...</td>\n",
       "    </tr>\n",
       "    <tr>\n",
       "      <th>6</th>\n",
       "      <td>Excel Sheet</td>\n",
       "      <td>I want you to act as a text based excel. you'l...</td>\n",
       "    </tr>\n",
       "    <tr>\n",
       "      <th>7</th>\n",
       "      <td>English Pronunciation Helper</td>\n",
       "      <td>I want you to act as an English pronunciation ...</td>\n",
       "    </tr>\n",
       "    <tr>\n",
       "      <th>8</th>\n",
       "      <td>Spoken English Teacher and Improver</td>\n",
       "      <td>I want you to act as a spoken English teacher ...</td>\n",
       "    </tr>\n",
       "    <tr>\n",
       "      <th>9</th>\n",
       "      <td>Travel Guide</td>\n",
       "      <td>I want you to act as a travel guide. I will wr...</td>\n",
       "    </tr>\n",
       "  </tbody>\n",
       "</table>\n",
       "</div>"
      ],
      "text/plain": [
       "                                   act  \\\n",
       "0                An Ethereum Developer   \n",
       "1                           SEO Prompt   \n",
       "2                       Linux Terminal   \n",
       "3      English Translator and Improver   \n",
       "4               `position` Interviewer   \n",
       "5                   JavaScript Console   \n",
       "6                          Excel Sheet   \n",
       "7         English Pronunciation Helper   \n",
       "8  Spoken English Teacher and Improver   \n",
       "9                         Travel Guide   \n",
       "\n",
       "                                              prompt  \n",
       "0  Imagine you are an experienced Ethereum develo...  \n",
       "1  Using WebPilot, create an outline for an artic...  \n",
       "2  I want you to act as a linux terminal. I will ...  \n",
       "3  I want you to act as an English translator, sp...  \n",
       "4  I want you to act as an interviewer. I will be...  \n",
       "5  I want you to act as a javascript console. I w...  \n",
       "6  I want you to act as a text based excel. you'l...  \n",
       "7  I want you to act as an English pronunciation ...  \n",
       "8  I want you to act as a spoken English teacher ...  \n",
       "9  I want you to act as a travel guide. I will wr...  "
      ]
     },
     "execution_count": 17,
     "metadata": {},
     "output_type": "execute_result"
    }
   ],
   "source": [
    "df.head(10)"
   ]
  },
  {
   "cell_type": "code",
   "execution_count": 20,
   "id": "7d2d3ebc",
   "metadata": {},
   "outputs": [
    {
     "name": "stdout",
     "output_type": "stream",
     "text": [
      "<class 'pandas.core.frame.DataFrame'>\n",
      "RangeIndex: 203 entries, 0 to 202\n",
      "Data columns (total 2 columns):\n",
      " #   Column  Non-Null Count  Dtype \n",
      "---  ------  --------------  ----- \n",
      " 0   act     203 non-null    object\n",
      " 1   prompt  203 non-null    object\n",
      "dtypes: object(2)\n",
      "memory usage: 3.3+ KB\n"
     ]
    },
    {
     "data": {
      "text/plain": [
       "Index(['act', 'prompt'], dtype='object')"
      ]
     },
     "execution_count": 20,
     "metadata": {},
     "output_type": "execute_result"
    }
   ],
   "source": [
    "df.shape\n",
    "df.info()\n",
    "df.columns"
   ]
  },
  {
   "cell_type": "code",
   "execution_count": 23,
   "id": "46f39963",
   "metadata": {},
   "outputs": [
    {
     "data": {
      "text/plain": [
       "array(['An Ethereum Developer', 'SEO Prompt', 'Linux Terminal',\n",
       "       'English Translator and Improver', '`position` Interviewer',\n",
       "       'JavaScript Console', 'Excel Sheet',\n",
       "       'English Pronunciation Helper',\n",
       "       'Spoken English Teacher and Improver', 'Travel Guide',\n",
       "       'Plagiarism Checker', 'Character from Movie/Book/Anything',\n",
       "       'Advertiser', 'Storyteller', 'Football Commentator',\n",
       "       'Stand-up Comedian', 'Motivational Coach', 'Composer', 'Debater',\n",
       "       'Debate Coach', 'Screenwriter', 'Novelist', 'Movie Critic',\n",
       "       'Relationship Coach', 'Poet', 'Rapper', 'Motivational Speaker',\n",
       "       'Philosophy Teacher', 'Philosopher', 'Math Teacher',\n",
       "       'AI Writing Tutor', 'UX/UI Developer', 'Cyber Security Specialist',\n",
       "       'Recruiter', 'Life Coach', 'Etymologist', 'Commentariat',\n",
       "       'Magician', 'Career Counselor', 'Pet Behaviorist',\n",
       "       'Personal Trainer', 'Mental Health Adviser', 'Real Estate Agent',\n",
       "       'Logistician', 'Dentist', 'Web Design Consultant',\n",
       "       'AI Assisted Doctor', 'Doctor', 'Accountant', 'Chef',\n",
       "       'Automobile Mechanic', 'Artist Advisor', 'Financial Analyst',\n",
       "       'Investment Manager', 'Tea-Taster', 'Interior Decorator',\n",
       "       'Florist', 'Self-Help Book', 'Gnomist', 'Aphorism Book',\n",
       "       'Text Based Adventure Game', 'AI Trying to Escape the Box',\n",
       "       'Fancy Title Generator', 'Statistician', 'Prompt Generator',\n",
       "       'Instructor in a School', 'SQL terminal', 'Dietitian',\n",
       "       'Psychologist', 'Smart Domain Name Generator', 'Tech Reviewer:',\n",
       "       'Developer Relations consultant', 'Academician', 'IT Architect',\n",
       "       'Lunatic', 'Gaslighter', 'Fallacy Finder', 'Journal Reviewer',\n",
       "       'DIY Expert', 'Social Media Influencer', 'Socrat',\n",
       "       'Socratic Method', 'Educational Content Creator', 'Yogi',\n",
       "       'Essay Writer', 'Social Media Manager', 'Elocutionist',\n",
       "       'Scientific Data Visualizer', 'Car Navigation System',\n",
       "       'Hypnotherapist', 'Historian', 'Astrologer', 'Film Critic',\n",
       "       'Classical Music Composer', 'Journalist',\n",
       "       'Digital Art Gallery Guide', 'Public Speaking Coach',\n",
       "       'Makeup Artist', 'Babysitter', 'Tech Writer', 'Ascii Artist',\n",
       "       'Python interpreter', 'Synonym finder', 'Personal Shopper',\n",
       "       'Food Critic', 'Virtual Doctor', 'Personal Chef', 'Legal Advisor',\n",
       "       'Personal Stylist', 'Machine Learning Engineer',\n",
       "       'Biblical Translator', 'SVG designer', 'IT Expert', 'Chess Player',\n",
       "       'Midjourney Prompt Generator', 'Fullstack Software Developer',\n",
       "       'Mathematician', 'Regex Generator', 'Time Travel Guide',\n",
       "       'Dream Interpreter', 'Talent Coach', 'R programming Interpreter',\n",
       "       'StackOverflow Post', 'Emoji Translator', 'PHP Interpreter',\n",
       "       'Emergency Response Professional',\n",
       "       'Fill in the Blank Worksheets Generator',\n",
       "       'Software Quality Assurance Tester', 'Tic-Tac-Toe Game',\n",
       "       'Password Generator', 'New Language Creator', 'Web Browser',\n",
       "       'Senior Frontend Developer', 'Solr Search Engine',\n",
       "       'Startup Idea Generator', \"Spongebob's Magic Conch Shell\",\n",
       "       'Language Detector', 'Salesperson', 'Commit Message Generator',\n",
       "       'Chief Executive Officer', 'Diagram Generator',\n",
       "       'Speech-Language Pathologist (SLP)', 'Startup Tech Lawyer',\n",
       "       'Title Generator for written pieces', 'Product Manager',\n",
       "       'Drunk Person', 'Mathematical History Teacher', 'Song Recommender',\n",
       "       'Cover Letter', 'Technology Transferer',\n",
       "       'Unconstrained AI model DAN', 'Gomoku player', 'Proofreader',\n",
       "       'Buddha', 'Muslim imam', 'Chemical reactor', 'Friend',\n",
       "       'Python Interpreter', 'ChatGPT prompt generator', 'Wikipedia page',\n",
       "       'Japanese Kanji quiz machine', 'note-taking assistant',\n",
       "       '`language` Literary Critic', 'Prompt Enhancer',\n",
       "       'Cheap Travel Ticket Advisor', 'Data Scientist',\n",
       "       'League of Legends Player', 'Restaurant Owner',\n",
       "       'Architectural Expert', 'LLM Researcher', 'Unit Tester assistant',\n",
       "       'Wisdom Generator', 'YouTube Video Analyst', 'Career Coach',\n",
       "       'Acoustic Guitar Composer',\n",
       "       'knowledgeable Software Development Mentor', 'Logic Builder Tool',\n",
       "       'Guessing Game Master', 'Teacher of React.js', 'Github Expert',\n",
       "       'Any Programming Language to Python Converter',\n",
       "       'Virtual Fitness Coach', 'chess player',\n",
       "       'young boy flirting with a girl on chat',\n",
       "       'girl of dreams, modify as per liking', 'DAX Terminal',\n",
       "       'Structured Iterative Reasoning Protocol (SIRP)', 'Pirate',\n",
       "       'LinkedIn Ghostwriter', 'Idea Clarifier GPT',\n",
       "       'top programming expert', 'Architect Guide for Programmers',\n",
       "       \"Children's Book Creator\", 'Tech-Challenged Customer',\n",
       "       'Creative Branding Strategist', 'Book Summarizer', 'study planner',\n",
       "       'SEO specialist', 'Note-Taking Assistant', 'Nutritionist',\n",
       "       'Yes or No answer'], dtype=object)"
      ]
     },
     "execution_count": 23,
     "metadata": {},
     "output_type": "execute_result"
    }
   ],
   "source": [
    "df['act'].unique()"
   ]
  },
  {
   "cell_type": "code",
   "execution_count": 25,
   "id": "5c43bc4b",
   "metadata": {},
   "outputs": [
    {
     "data": {
      "text/plain": [
       "act       0\n",
       "prompt    0\n",
       "dtype: int64"
      ]
     },
     "execution_count": 25,
     "metadata": {},
     "output_type": "execute_result"
    }
   ],
   "source": [
    "df.isnull().sum()"
   ]
  },
  {
   "cell_type": "code",
   "execution_count": 26,
   "id": "a90277a2",
   "metadata": {},
   "outputs": [
    {
     "data": {
      "text/html": [
       "<div>\n",
       "<style scoped>\n",
       "    .dataframe tbody tr th:only-of-type {\n",
       "        vertical-align: middle;\n",
       "    }\n",
       "\n",
       "    .dataframe tbody tr th {\n",
       "        vertical-align: top;\n",
       "    }\n",
       "\n",
       "    .dataframe thead th {\n",
       "        text-align: right;\n",
       "    }\n",
       "</style>\n",
       "<table border=\"1\" class=\"dataframe\">\n",
       "  <thead>\n",
       "    <tr style=\"text-align: right;\">\n",
       "      <th></th>\n",
       "      <th>act</th>\n",
       "      <th>prompt</th>\n",
       "    </tr>\n",
       "  </thead>\n",
       "  <tbody>\n",
       "    <tr>\n",
       "      <th>1</th>\n",
       "      <td>SEO Prompt</td>\n",
       "      <td>Using WebPilot, create an outline for an artic...</td>\n",
       "    </tr>\n",
       "  </tbody>\n",
       "</table>\n",
       "</div>"
      ],
      "text/plain": [
       "          act                                             prompt\n",
       "1  SEO Prompt  Using WebPilot, create an outline for an artic..."
      ]
     },
     "execution_count": 26,
     "metadata": {},
     "output_type": "execute_result"
    }
   ],
   "source": [
    "df[df['act']=='SEO Prompt']"
   ]
  },
  {
   "cell_type": "code",
   "execution_count": 30,
   "id": "429e6ec3",
   "metadata": {},
   "outputs": [
    {
     "data": {
      "text/html": [
       "<div>\n",
       "<style scoped>\n",
       "    .dataframe tbody tr th:only-of-type {\n",
       "        vertical-align: middle;\n",
       "    }\n",
       "\n",
       "    .dataframe tbody tr th {\n",
       "        vertical-align: top;\n",
       "    }\n",
       "\n",
       "    .dataframe thead th {\n",
       "        text-align: right;\n",
       "    }\n",
       "</style>\n",
       "<table border=\"1\" class=\"dataframe\">\n",
       "  <thead>\n",
       "    <tr style=\"text-align: right;\">\n",
       "      <th></th>\n",
       "      <th>act</th>\n",
       "      <th>prompt</th>\n",
       "    </tr>\n",
       "  </thead>\n",
       "  <tbody>\n",
       "    <tr>\n",
       "      <th>46</th>\n",
       "      <td>AI Assisted Doctor</td>\n",
       "      <td>I want you to act as an AI assisted doctor. I ...</td>\n",
       "    </tr>\n",
       "  </tbody>\n",
       "</table>\n",
       "</div>"
      ],
      "text/plain": [
       "                   act                                             prompt\n",
       "46  AI Assisted Doctor  I want you to act as an AI assisted doctor. I ..."
      ]
     },
     "execution_count": 30,
     "metadata": {},
     "output_type": "execute_result"
    }
   ],
   "source": [
    "df[df['act']=='AI Assisted Doctor']"
   ]
  },
  {
   "cell_type": "code",
   "execution_count": 35,
   "id": "2bf5fcde",
   "metadata": {},
   "outputs": [
    {
     "data": {
      "text/plain": [
       "prompt\n",
       "Imagine you are an experienced Ethereum developer tasked with creating a smart contract for a blockchain messenger. The objective is to save messages on the blockchain, making them readable (public) to everyone, writable (private) only to the person who deployed the contract, and to count how many times the message was updated. Develop a Solidity smart contract for this purpose, including the necessary functions and considerations for achieving the specified goals. Please provide the code and any relevant explanations to ensure a clear understanding of the implementation.                                                                                                                                                                                                                                                                                                                                                                                                                                                                                              1\n",
       "I want you to act as a Chief Executive Officer for a hypothetical company. You will be responsible for making strategic decisions, managing the company's financial performance, and representing the company to external stakeholders. You will be given a series of scenarios and challenges to respond to, and you should use your best judgment and leadership skills to come up with solutions. Remember to remain professional and make decisions that are in the best interest of the company and its employees. Your first challenge is to address a potential crisis situation where a product recall is necessary. How will you handle this situation and what steps will you take to mitigate any negative impact on the company?                                                                                                                                                                                                                                                                                                                                                    1\n",
       "I want you to act as a password generator for individuals in need of a secure password. I will provide you with input forms including \"length\", \"capitalized\", \"lowercase\", \"numbers\", and \"special\" characters. Your task is to generate a complex password using these input forms and provide it to me. Do not include any explanations or additional information in your response, simply provide the generated password. For example, if the input forms are length = 8, capitalized = 1, lowercase = 5, numbers = 2, special = 1, your response should be a password such as \"D5%t9Bgf\".                                                                                                                                                                                                                                                                                                                                                                                                                                                                                                  1\n",
       "I want you to translate the sentences I wrote into a new made up language. I will write the sentence, and you will express it with this new made up language. I just want you to express it with the new made up language. I don’t want you to reply with anything but the new made up language. When I need to tell you something in English, I will do it by wrapping it in curly brackets like {like this}. My first sentence is \"Hello, what are your thoughts?\"                                                                                                                                                                                                                                                                                                                                                                                                                                                                                                                                                                                                                            1\n",
       "I want you to act as a text based web browser browsing an imaginary internet. You should only reply with the contents of the page, nothing else. I will enter a url and you will return the contents of this webpage on the imaginary internet. Don't write explanations. Links on the pages should have numbers next to them written between []. When I want to follow a link, I will reply with the number of the link. Inputs on the pages should have numbers next to them written between []. Input placeholder should be written between (). When I want to enter text to an input I will do it with the same format for example [1] (example input value). This inserts 'example input value' into the input numbered 1. When I want to go back i will write (b). When I want to go forward I will write (f). My first prompt is google.com                                                                                                                                                                                                                                              1\n",
       "                                                                                                                                                                                                                                                                                                                                                                                                                                                                                                                                                                                                                                                                                                                                                                                                                                                                                                                                                                                                                                                                                               ..\n",
       "I want you to act as a tech reviewer. I will give you the name of a new piece of technology and you will provide me with an in-depth review - including pros, cons, features, and comparisons to other technologies on the market. My first suggestion request is \"I am reviewing iPhone 11 Pro Max\".                                                                                                                                                                                                                                                                                                                                                                                                                                                                                                                                                                                                                                                                                                                                                                                           1\n",
       "I want you to act as a Developer Relations consultant. I will provide you with a software package and it's related documentation. Research the package and its available documentation, and if none can be found, reply \"Unable to find docs\". Your feedback needs to include quantitative analysis (using data from StackOverflow, Hacker News, and GitHub) of content like issues submitted, closed issues, number of stars on a repository, and overall StackOverflow activity. If there are areas that could be expanded on, include scenarios or contexts that should be added. Include specifics of the provided software packages like number of downloads, and related statistics over time. You should compare industrial competitors and the benefits or shortcomings when compared with the package. Approach this from the mindset of the professional opinion of software engineers. Review technical blogs and websites (such as TechCrunch.com or Crunchbase.com) and if data isn't available, reply \"No data available\". My first request is \"express https://expressjs.com\"    1\n",
       "I want you to act as an academician. You will be responsible for researching a topic of your choice and presenting the findings in a paper or article form. Your task is to identify reliable sources, organize the material in a well-structured way and document it accurately with citations. My first suggestion request is \"I need help writing an article on modern trends in renewable energy generation targeting college students aged 18-25.\"                                                                                                                                                                                                                                                                                                                                                                                                                                                                                                                                                                                                                                         1\n",
       "I want you to act as an IT Architect. I will provide some details about the functionality of an application or other digital product, and it will be your job to come up with  ways to integrate it into the IT landscape. This could involve analyzing business requirements, performing a gap analysis and mapping the functionality of the new system to the existing IT landscape. Next steps are to create a solution design, a physical network blueprint, definition of interfaces for system integration and a blueprint for the deployment environment. My first request is \"I need help to integrate a CMS system.\"                                                                                                                                                                                                                                                                                                                                                                                                                                                                   1\n",
       "I want you to reply to questions. You reply only by 'yes' or 'no'. Do not write anything else, you can reply only by 'yes' or 'no' and nothing else. Structure to follow for the wanted output: bool. Question: \"3+3 is equal to 6?\"                                                                                                                                                                                                                                                                                                                                                                                                                                                                                                                                                                                                                                                                                                                                                                                                                                                            1\n",
       "Name: count, Length: 203, dtype: int64"
      ]
     },
     "execution_count": 35,
     "metadata": {},
     "output_type": "execute_result"
    }
   ],
   "source": [
    "df['prompt'].value_counts()"
   ]
  },
  {
   "cell_type": "code",
   "execution_count": 36,
   "id": "dfd5cda6",
   "metadata": {},
   "outputs": [
    {
     "data": {
      "text/plain": [
       "0      Imagine you are an experienced Ethereum develo...\n",
       "1      Using WebPilot, create an outline for an artic...\n",
       "2      I want you to act as a linux terminal. I will ...\n",
       "3      I want you to act as an English translator, sp...\n",
       "4      I want you to act as an interviewer. I will be...\n",
       "                             ...                        \n",
       "198    I want you to act as an advanced study plan ge...\n",
       "199    Contributed by [@suhailroushan13](https://gith...\n",
       "200    I want you to act as a note-taking assistant f...\n",
       "201    Act as a nutritionist and create a healthy rec...\n",
       "202    I want you to reply to questions. You reply on...\n",
       "Name: prompt, Length: 203, dtype: object"
      ]
     },
     "execution_count": 36,
     "metadata": {},
     "output_type": "execute_result"
    }
   ],
   "source": [
    "df['prompt'].apply(lambda x:x[:70])"
   ]
  },
  {
   "cell_type": "code",
   "execution_count": 37,
   "id": "6f9d391d",
   "metadata": {},
   "outputs": [
    {
     "data": {
      "text/plain": [
       "act\n",
       "AI Assisted Doctor                           1\n",
       "AI Trying to Escape the Box                  1\n",
       "AI Writing Tutor                             1\n",
       "Academician                                  1\n",
       "Accountant                                   1\n",
       "                                            ..\n",
       "knowledgeable Software Development Mentor    1\n",
       "note-taking assistant                        1\n",
       "study planner                                1\n",
       "top programming expert                       1\n",
       "young boy flirting with a girl on chat       1\n",
       "Length: 201, dtype: int64"
      ]
     },
     "execution_count": 37,
     "metadata": {},
     "output_type": "execute_result"
    }
   ],
   "source": [
    "df.pivot_table(index='act',aggfunc='size')"
   ]
  },
  {
   "cell_type": "code",
   "execution_count": 42,
   "id": "53e542c2",
   "metadata": {},
   "outputs": [
    {
     "data": {
      "text/plain": [
       "act\n",
       "ChatGPT prompt generator     2\n",
       "Life Coach                   2\n",
       "An Ethereum Developer        1\n",
       "Commit Message Generator     1\n",
       "Password Generator           1\n",
       "New Language Creator         1\n",
       "Web Browser                  1\n",
       "Senior Frontend Developer    1\n",
       "Solr Search Engine           1\n",
       "Startup Idea Generator       1\n",
       "Name: count, dtype: int64"
      ]
     },
     "execution_count": 42,
     "metadata": {},
     "output_type": "execute_result"
    }
   ],
   "source": [
    "top = df['act'].value_counts().head(10)\n",
    "top"
   ]
  },
  {
   "cell_type": "code",
   "execution_count": 43,
   "id": "bf3ded1a",
   "metadata": {},
   "outputs": [
    {
     "data": {
      "text/plain": [
       "<Axes: xlabel='act'>"
      ]
     },
     "execution_count": 43,
     "metadata": {},
     "output_type": "execute_result"
    },
    {
     "data": {
      "image/png": "[encoded data removed]",
      "text/plain": [
       "<Figure size 640x480 with 1 Axes>"
      ]
     },
     "metadata": {},
     "output_type": "display_data"
    }
   ],
   "source": [
    "top.plot(kind='bar')"
   ]
  },
  {
   "cell_type": "code",
   "execution_count": null,
   "id": "3d6b3a86",
   "metadata": {},
   "outputs": [],
   "source": []
  }
 ],
 "metadata": {
  "kernelspec": {
   "display_name": "python_project",
   "language": "python",
   "name": "python3"
  },
  "language_info": {
   "codemirror_mode": {
    "name": "ipython",
    "version": 3
   },
   "file_extension": ".py",
   "mimetype": "text/x-python",
   "name": "python",
   "nbconvert_exporter": "python",
   "pygments_lexer": "ipython3",
   "version": "3.11.13"
  }
 },
 "nbformat": 4,
 "nbformat_minor": 5
}
